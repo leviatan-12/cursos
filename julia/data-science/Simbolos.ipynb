{
 "cells": [
  {
   "cell_type": "code",
   "execution_count": 2,
   "metadata": {},
   "outputs": [
    {
     "data": {
      "text/plain": [
       ":hombre"
      ]
     },
     "execution_count": 2,
     "metadata": {},
     "output_type": "execute_result"
    }
   ],
   "source": [
    "genero = :hombre"
   ]
  },
  {
   "cell_type": "code",
   "execution_count": 3,
   "metadata": {},
   "outputs": [
    {
     "data": {
      "text/plain": [
       "Symbol"
      ]
     },
     "execution_count": 3,
     "metadata": {},
     "output_type": "execute_result"
    }
   ],
   "source": [
    "typeof(genero)"
   ]
  },
  {
   "cell_type": "code",
   "execution_count": 4,
   "metadata": {},
   "outputs": [
    {
     "name": "stdout",
     "output_type": "stream",
     "text": [
      "search: \u001b[1mS\u001b[22m\u001b[1my\u001b[22m\u001b[1mm\u001b[22m\u001b[1mb\u001b[22m\u001b[1mo\u001b[22m\u001b[1ml\u001b[22m\n",
      "\n"
     ]
    },
    {
     "data": {
      "text/markdown": [
       "```\n",
       "Symbol(x...) -> Symbol\n",
       "```\n",
       "\n",
       "Create a `Symbol` by concatenating the string representations of the arguments together.\n"
      ],
      "text/plain": [
       "```\n",
       "Symbol(x...) -> Symbol\n",
       "```\n",
       "\n",
       "Create a `Symbol` by concatenating the string representations of the arguments together.\n"
      ]
     },
     "execution_count": 4,
     "metadata": {},
     "output_type": "execute_result"
    }
   ],
   "source": [
    "?Symbol"
   ]
  },
  {
   "cell_type": "code",
   "execution_count": 5,
   "metadata": {},
   "outputs": [
    {
     "name": "stdout",
     "output_type": "stream",
     "text": [
      "search: \u001b[1mc\u001b[22m\u001b[1mo\u001b[22m\u001b[1ml\u001b[22m\u001b[1ml\u001b[22m\u001b[1me\u001b[22m\u001b[1mc\u001b[22m\u001b[1mt\u001b[22m \u001b[1mC\u001b[22m\u001b[1mo\u001b[22m\u001b[1ml\u001b[22m\u001b[1ml\u001b[22m\u001b[1me\u001b[22m\u001b[1mc\u001b[22m\u001b[1mt\u001b[22mions\n",
      "\n"
     ]
    },
    {
     "data": {
      "text/markdown": [
       "```\n",
       "collect(element_type, collection)\n",
       "```\n",
       "\n",
       "Return an `Array` with the given element type of all items in a collection or iterable. The result has the same shape and number of dimensions as `collection`.\n",
       "\n",
       "```jldoctest\n",
       "julia> collect(Float64, 1:2:5)\n",
       "3-element Array{Float64,1}:\n",
       " 1.0\n",
       " 3.0\n",
       " 5.0\n",
       "```\n",
       "\n",
       "```\n",
       "collect(collection)\n",
       "```\n",
       "\n",
       "Return an `Array` of all items in a collection or iterator. For associative collections, returns `Pair{KeyType, ValType}`. If the argument is array-like or is an iterator with the `HasShape()` trait, the result will have the same shape and number of dimensions as the argument.\n",
       "\n",
       "# Example\n",
       "\n",
       "```jldoctest\n",
       "julia> collect(1:2:13)\n",
       "7-element Array{Int64,1}:\n",
       "  1\n",
       "  3\n",
       "  5\n",
       "  7\n",
       "  9\n",
       " 11\n",
       " 13\n",
       "```\n"
      ],
      "text/plain": [
       "```\n",
       "collect(element_type, collection)\n",
       "```\n",
       "\n",
       "Return an `Array` with the given element type of all items in a collection or iterable. The result has the same shape and number of dimensions as `collection`.\n",
       "\n",
       "```jldoctest\n",
       "julia> collect(Float64, 1:2:5)\n",
       "3-element Array{Float64,1}:\n",
       " 1.0\n",
       " 3.0\n",
       " 5.0\n",
       "```\n",
       "\n",
       "```\n",
       "collect(collection)\n",
       "```\n",
       "\n",
       "Return an `Array` of all items in a collection or iterator. For associative collections, returns `Pair{KeyType, ValType}`. If the argument is array-like or is an iterator with the `HasShape()` trait, the result will have the same shape and number of dimensions as the argument.\n",
       "\n",
       "# Example\n",
       "\n",
       "```jldoctest\n",
       "julia> collect(1:2:13)\n",
       "7-element Array{Int64,1}:\n",
       "  1\n",
       "  3\n",
       "  5\n",
       "  7\n",
       "  9\n",
       " 11\n",
       " 13\n",
       "```\n"
      ]
     },
     "execution_count": 5,
     "metadata": {},
     "output_type": "execute_result"
    }
   ],
   "source": [
    "?collect"
   ]
  },
  {
   "cell_type": "code",
   "execution_count": 8,
   "metadata": {},
   "outputs": [
    {
     "data": {
      "text/plain": [
       "1-element Array{Float64,1}:\n",
       " -0.815157"
      ]
     },
     "execution_count": 8,
     "metadata": {},
     "output_type": "execute_result"
    }
   ],
   "source": [
    "randn(1)"
   ]
  },
  {
   "cell_type": "code",
   "execution_count": 9,
   "metadata": {},
   "outputs": [
    {
     "data": {
      "text/plain": [
       "40"
      ]
     },
     "execution_count": 9,
     "metadata": {},
     "output_type": "execute_result"
    }
   ],
   "source": [
    "# Se pueden hacer operaciones en una misma linea, pero hay que separarlas con ;\n",
    "resultado = a=20;a*2"
   ]
  },
  {
   "cell_type": "code",
   "execution_count": 11,
   "metadata": {},
   "outputs": [
    {
     "ename": "LoadError",
     "evalue": "\u001b[91mAlgo ha salido mal\u001b[39m",
     "output_type": "error",
     "traceback": [
      "\u001b[91mAlgo ha salido mal\u001b[39m",
      "",
      "Stacktrace:",
      " [1] \u001b[1merror\u001b[22m\u001b[22m\u001b[1m(\u001b[22m\u001b[22m::String\u001b[1m)\u001b[22m\u001b[22m at \u001b[1m./error.jl:21\u001b[22m\u001b[22m",
      " [2] \u001b[1minclude_string\u001b[22m\u001b[22m\u001b[1m(\u001b[22m\u001b[22m::String, ::String\u001b[1m)\u001b[22m\u001b[22m at \u001b[1m./loading.jl:522\u001b[22m\u001b[22m"
     ]
    }
   ],
   "source": [
    "#Para desplegar un error es con el comando error(\"Mensaje de error\")\n",
    "α = 10\n",
    "if α > 10\n",
    "    println(\"Todo bien\")\n",
    "else \n",
    "    error(\"Algo ha salido mal\")\n",
    "    println(\"Después\")\n",
    "end"
   ]
  },
  {
   "cell_type": "code",
   "execution_count": 12,
   "metadata": {},
   "outputs": [
    {
     "name": "stdout",
     "output_type": "stream",
     "text": [
      "Después\n"
     ]
    },
    {
     "name": "stderr",
     "output_type": "stream",
     "text": [
      "\u001b[1m\u001b[33mWARNING: \u001b[39m\u001b[22m\u001b[33mAlgo ha salido mal\u001b[39m\n"
     ]
    }
   ],
   "source": [
    "# También se pueden sacar mensajes de advertencia, que no obligan al programa detenerse\n",
    "\n",
    "α = 10\n",
    "if α > 10\n",
    "    println(\"Todo bien\")\n",
    "else \n",
    "    warn(\"Algo ha salido mal\")\n",
    "    println(\"Después\")\n",
    "end"
   ]
  },
  {
   "cell_type": "code",
   "execution_count": 16,
   "metadata": {},
   "outputs": [
    {
     "name": "stdout",
     "output_type": "stream",
     "text": [
      "SystemError: opening file archivoInexistente.txt: No such file or directory\n",
      "Después del error\n"
     ]
    },
    {
     "name": "stderr",
     "output_type": "stream",
     "text": [
      "\u001b[1m\u001b[33mWARNING: \u001b[39m\u001b[22m\u001b[33mCiertas cosas no podrán funcionar sin este archivo\u001b[39m\n"
     ]
    }
   ],
   "source": [
    "try\n",
    "    open(\"archivoInexistente.txt\")\n",
    "catch ex\n",
    "    showerror(STDOUT,ex)\n",
    "    warn(\"Ciertas cosas no podrán funcionar sin este archivo\")\n",
    "end\n",
    "println(\"\\nDespués del error\")"
   ]
  },
  {
   "cell_type": "code",
   "execution_count": 25,
   "metadata": {},
   "outputs": [
    {
     "name": "stdout",
     "output_type": "stream",
     "text": [
      "7\n"
     ]
    }
   ],
   "source": [
    "# Para poder dejar asignar los parametros por nombre tienen que ir después de un ;\n",
    "function prueba(;x=1,y=2,z=3)\n",
    "    println(x+y+z)\n",
    "end\n",
    "prueba(x=2)"
   ]
  },
  {
   "cell_type": "code",
   "execution_count": 29,
   "metadata": {},
   "outputs": [
    {
     "data": {
      "text/plain": [
       "10-element Array{Float64,1}:\n",
       "  -41.0\n",
       "   79.0\n",
       "  141.0\n",
       "  106.0\n",
       "  -55.0\n",
       " -263.0\n",
       "   19.0\n",
       "   -5.0\n",
       "   96.0\n",
       "  -28.0"
      ]
     },
     "execution_count": 29,
     "metadata": {},
     "output_type": "execute_result"
    }
   ],
   "source": [
    "# Julia también tiene List Comprehension \n",
    "arr1 = randn(10)\n",
    "arr2 = round.([x*100 for x in arr1])"
   ]
  },
  {
   "cell_type": "code",
   "execution_count": 37,
   "metadata": {},
   "outputs": [
    {
     "name": "stdout",
     "output_type": "stream",
     "text": [
      "30\n"
     ]
    },
    {
     "data": {
      "text/plain": [
       "40"
      ]
     },
     "execution_count": 37,
     "metadata": {},
     "output_type": "execute_result"
    }
   ],
   "source": [
    "# Diccionarios en Julia\n",
    "\n",
    "diccionario = Dict(\"Numero 1\" => 10,\n",
    "    \"Num 2\" => 20,\n",
    "    true => 30)\n",
    "\n",
    "println(diccionario[true])\n",
    "diccionario[:true] = 40\n",
    "diccionario[true]"
   ]
  },
  {
   "cell_type": "code",
   "execution_count": 38,
   "metadata": {},
   "outputs": [
    {
     "data": {
      "text/plain": [
       "Base.ValueIterator for a Dict{Any,Int64} with 3 entries. Values:\n",
       "  20\n",
       "  10\n",
       "  40"
      ]
     },
     "execution_count": 38,
     "metadata": {},
     "output_type": "execute_result"
    }
   ],
   "source": [
    "# Para obtener las llaves del diccionario en un array:\n",
    "llavesDic = keys(diccionario)\n",
    "\n",
    "# Para obtener los valores del diccionario en un array:\n",
    "valuesDic = values(diccionario)\n"
   ]
  },
  {
   "cell_type": "code",
   "execution_count": null,
   "metadata": {
    "collapsed": true
   },
   "outputs": [],
   "source": []
  }
 ],
 "metadata": {
  "kernelspec": {
   "display_name": "Julia 0.6.1",
   "language": "julia",
   "name": "julia-0.6"
  },
  "language_info": {
   "file_extension": ".jl",
   "mimetype": "application/julia",
   "name": "julia",
   "version": "0.6.1"
  }
 },
 "nbformat": 4,
 "nbformat_minor": 2
}
