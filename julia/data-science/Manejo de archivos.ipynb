{
 "cells": [
  {
   "cell_type": "code",
   "execution_count": 5,
   "metadata": {},
   "outputs": [
    {
     "data": {
      "text/plain": [
       "1"
      ]
     },
     "execution_count": 5,
     "metadata": {},
     "output_type": "execute_result"
    }
   ],
   "source": [
    "fname = \"primerArchivo.txt\"\n",
    "# do cierra automáticamente el archivo cuando acaba de hacer operaciones con el.\n",
    "# La opción w sirve para sobreescribir el archivo\n",
    "open(fname,\"w\") do file\n",
    "    write(file,\"Hola mundo\")\n",
    "    write(file,\"\\n\")\n",
    "end"
   ]
  },
  {
   "cell_type": "code",
   "execution_count": 8,
   "metadata": {},
   "outputs": [
    {
     "data": {
      "text/plain": [
       "1"
      ]
     },
     "execution_count": 8,
     "metadata": {},
     "output_type": "execute_result"
    }
   ],
   "source": [
    "# La opción a sirve para agregar al archivo\n",
    "open(fname,\"a\") do file\n",
    "    write(file,\"Hola mundo 2\")\n",
    "    write(file,\"\\n\")\n",
    "end"
   ]
  },
  {
   "cell_type": "code",
   "execution_count": 14,
   "metadata": {
    "collapsed": true
   },
   "outputs": [],
   "source": [
    "fname1 = \"archivo.cvs\"\n",
    "\n",
    "open(fname1,\"w\") do file\n",
    "    for i in 1:10\n",
    "        cadena = \"Nombre,$i,$(i*2),$(i*i)\"\n",
    "        write(file,string(cadena))\n",
    "        write(file,\"\\n\")\n",
    "    end\n",
    "end"
   ]
  },
  {
   "cell_type": "code",
   "execution_count": 60,
   "metadata": {},
   "outputs": [
    {
     "data": {
      "text/plain": [
       "10×4 Array{Any,2}:\n",
       " \"Nombre\"   1   2    1\n",
       " \"Nombre\"   2   4    4\n",
       " \"Nombre\"   3   6    9\n",
       " \"Nombre\"   4   8   16\n",
       " \"Nombre\"   5  10   25\n",
       " \"Nombre\"   6  12   36\n",
       " \"Nombre\"   7  14   49\n",
       " \"Nombre\"   8  16   64\n",
       " \"Nombre\"   9  18   81\n",
       " \"Nombre\"  10  20  100"
      ]
     },
     "execution_count": 60,
     "metadata": {},
     "output_type": "execute_result"
    }
   ],
   "source": [
    "data_demo = readcsv(fname1)"
   ]
  },
  {
   "cell_type": "code",
   "execution_count": 61,
   "metadata": {},
   "outputs": [
    {
     "data": {
      "text/html": [
       "<img src=\"data:image/png;base64,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\" />"
      ]
     },
     "execution_count": 61,
     "metadata": {},
     "output_type": "execute_result"
    }
   ],
   "source": [
    "using Plots\n",
    "pyplot()\n",
    "plot(1:10,data_demo[:,2:4])"
   ]
  },
  {
   "cell_type": "code",
   "execution_count": 62,
   "metadata": {},
   "outputs": [],
   "source": [
    "writedlm(\"nuevoCSV.csv\",data_demo[:,2:4])"
   ]
  },
  {
   "cell_type": "code",
   "execution_count": 24,
   "metadata": {},
   "outputs": [
    {
     "name": "stderr",
     "output_type": "stream",
     "text": [
      "  % Total    % Received % Xferd  Average Speed   Time    Time     Time  Current\n",
      "                                 Dload  Upload   Total   Spent    Left  Speed\n",
      "100 15762  100 15762    0     0  56752      0 --:--:-- --:--:-- --:--:-- 59033\n"
     ]
    },
    {
     "data": {
      "text/plain": [
       "\"archivoDescargado.xml\""
      ]
     },
     "execution_count": 24,
     "metadata": {},
     "output_type": "execute_result"
    }
   ],
   "source": [
    "download(\"http://www.cofax.org/site/docs/sample-web.xml\",\"archivoDescargado.xml\")"
   ]
  },
  {
   "cell_type": "code",
   "execution_count": 26,
   "metadata": {},
   "outputs": [
    {
     "name": "stderr",
     "output_type": "stream",
     "text": [
      "\u001b[1m\u001b[36mINFO: \u001b[39m\u001b[22m\u001b[36mCloning cache of DataArrays from https://github.com/JuliaStats/DataArrays.jl.git\n",
      "\u001b[39m\u001b[1m\u001b[36mINFO: \u001b[39m\u001b[22m\u001b[36mInstalling DataArrays v0.6.2\n",
      "\u001b[39m\u001b[1m\u001b[36mINFO: \u001b[39m\u001b[22m\u001b[36mBuilding SpecialFunctions\n",
      "\u001b[39m\u001b[1m\u001b[36mINFO: \u001b[39m\u001b[22m\u001b[36mPackage database updated\n",
      "\u001b[39m\u001b[1m\u001b[36mINFO: \u001b[39m\u001b[22m\u001b[36mPrecompiling module DataArrays.\n",
      "\u001b[39mWARNING: using DataArrays.data in module Main conflicts with an existing identifier.\n"
     ]
    }
   ],
   "source": [
    "Pkg.add(\"DataArrays\")\n",
    "using DataArrays"
   ]
  },
  {
   "cell_type": "code",
   "execution_count": 27,
   "metadata": {},
   "outputs": [
    {
     "data": {
      "text/plain": [
       "5-element DataArrays.DataArray{Float64,1}:\n",
       " 7.1 \n",
       " 3.0 \n",
       "  NA \n",
       " 5.02\n",
       " 8.32"
      ]
     },
     "execution_count": 27,
     "metadata": {},
     "output_type": "execute_result"
    }
   ],
   "source": [
    "darr = @data([7.1,3.0,NA,5.02,8.32])"
   ]
  },
  {
   "cell_type": "code",
   "execution_count": 28,
   "metadata": {},
   "outputs": [
    {
     "data": {
      "text/plain": [
       "NA"
      ]
     },
     "execution_count": 28,
     "metadata": {},
     "output_type": "execute_result"
    }
   ],
   "source": [
    "# Hay un problema cuando tiene valores faltantes e intentas hacer operaciones en el array\n",
    "sum(darr)"
   ]
  },
  {
   "cell_type": "code",
   "execution_count": 29,
   "metadata": {},
   "outputs": [
    {
     "data": {
      "text/plain": [
       "23.439999999999998"
      ]
     },
     "execution_count": 29,
     "metadata": {},
     "output_type": "execute_result"
    }
   ],
   "source": [
    "# Una solución es quitar todos los valores faltantes\n",
    "sum(dropna(darr))"
   ]
  },
  {
   "cell_type": "code",
   "execution_count": 65,
   "metadata": {},
   "outputs": [
    {
     "name": "stderr",
     "output_type": "stream",
     "text": [
      "\u001b[1m\u001b[36mINFO: \u001b[39m\u001b[22m\u001b[36mCloning cache of DataFrames from https://github.com/JuliaData/DataFrames.jl.git\n",
      "\u001b[39m\u001b[1m\u001b[36mINFO: \u001b[39m\u001b[22m\u001b[36mCloning cache of FileIO from https://github.com/JuliaIO/FileIO.jl.git\n",
      "\u001b[39m\u001b[1m\u001b[36mINFO: \u001b[39m\u001b[22m\u001b[36mCloning cache of GZip from https://github.com/JuliaIO/GZip.jl.git\n",
      "\u001b[39m\u001b[1m\u001b[36mINFO: \u001b[39m\u001b[22m\u001b[36mCloning cache of SortingAlgorithms from https://github.com/JuliaCollections/SortingAlgorithms.jl.git\n",
      "\u001b[39m\u001b[1m\u001b[36mINFO: \u001b[39m\u001b[22m\u001b[36mInstalling DataFrames v0.10.1\n",
      "\u001b[39m\u001b[1m\u001b[36mINFO: \u001b[39m\u001b[22m\u001b[36mInstalling FileIO v0.5.2\n",
      "\u001b[39m\u001b[1m\u001b[36mINFO: \u001b[39m\u001b[22m\u001b[36mInstalling GZip v0.3.0\n",
      "\u001b[39m\u001b[1m\u001b[36mINFO: \u001b[39m\u001b[22m\u001b[36mInstalling SortingAlgorithms v0.2.0\n",
      "\u001b[39m\u001b[1m\u001b[36mINFO: \u001b[39m\u001b[22m\u001b[36mBuilding SpecialFunctions\n",
      "\u001b[39m\u001b[1m\u001b[36mINFO: \u001b[39m\u001b[22m\u001b[36mPackage database updated\n",
      "\u001b[39m"
     ]
    }
   ],
   "source": [
    "Pkg.add(\"DataFrames\")"
   ]
  },
  {
   "cell_type": "code",
   "execution_count": 104,
   "metadata": {},
   "outputs": [
    {
     "data": {
      "text/html": [
       "<table class=\"data-frame\"><thead><tr><th></th><th>numero_inicial</th><th>doble_numero</th><th>numero_cuadrado</th></tr></thead><tbody><tr><th>1</th><td>1</td><td>2</td><td>1</td></tr><tr><th>2</th><td>2</td><td>4</td><td>4</td></tr><tr><th>3</th><td>3</td><td>6</td><td>9</td></tr><tr><th>4</th><td>4</td><td>8</td><td>16</td></tr><tr><th>5</th><td>5</td><td>10</td><td>25</td></tr><tr><th>6</th><td>6</td><td>12</td><td>36</td></tr><tr><th>7</th><td>7</td><td>14</td><td>49</td></tr><tr><th>8</th><td>8</td><td>16</td><td>64</td></tr><tr><th>9</th><td>9</td><td>18</td><td>81</td></tr><tr><th>10</th><td>10</td><td>20</td><td>100</td></tr></tbody></table>"
      ],
      "text/plain": [
       "10×3 DataFrames.DataFrame\n",
       "│ Row │ numero_inicial │ doble_numero │ numero_cuadrado │\n",
       "├─────┼────────────────┼──────────────┼─────────────────┤\n",
       "│ 1   │ 1              │ 2            │ 1               │\n",
       "│ 2   │ 2              │ 4            │ 4               │\n",
       "│ 3   │ 3              │ 6            │ 9               │\n",
       "│ 4   │ 4              │ 8            │ 16              │\n",
       "│ 5   │ 5              │ 10           │ 25              │\n",
       "│ 6   │ 6              │ 12           │ 36              │\n",
       "│ 7   │ 7              │ 14           │ 49              │\n",
       "│ 8   │ 8              │ 16           │ 64              │\n",
       "│ 9   │ 9              │ 18           │ 81              │\n",
       "│ 10  │ 10             │ 20           │ 100             │"
      ]
     },
     "execution_count": 104,
     "metadata": {},
     "output_type": "execute_result"
    }
   ],
   "source": [
    "using DataFrames\n",
    "dframe = DataFrame()\n",
    "dframe = convert(DataFrame,data_demo[:,2:4])\n",
    "rename!(dframe,:x1,:numero_inicial)\n",
    "rename!(dframe,:x3,:numero_cuadrado)\n",
    "rename!(dframe,:x2,:doble_numero)"
   ]
  },
  {
   "cell_type": "code",
   "execution_count": 108,
   "metadata": {},
   "outputs": [
    {
     "data": {
      "text/plain": [
       "53-element DataArrays.DataArray{Int64,1}:\n",
       " 28634\n",
       " 28635\n",
       " 28607\n",
       " 28539\n",
       " 28476\n",
       " 28454\n",
       " 28388\n",
       " 28295\n",
       " 28220\n",
       " 28147\n",
       " 28073\n",
       " 27952\n",
       " 27929\n",
       "     ⋮\n",
       "  1835\n",
       "  1437\n",
       "  1201\n",
       "   982\n",
       "   779\n",
       "   528\n",
       "   309\n",
       "   260\n",
       "   239\n",
       "   176\n",
       "   130\n",
       "    49"
      ]
     },
     "execution_count": 108,
     "metadata": {},
     "output_type": "execute_result"
    }
   ],
   "source": [
    "#Crear dataFrame a través de archivos\n",
    "fname_dataFrame = \"wikidataEdit.csv\"\n",
    "data_frame_archivo = readtable(fname_dataFrame,separator = ',')\n",
    "data_frame_archivo[:,2]"
   ]
  },
  {
   "cell_type": "code",
   "execution_count": null,
   "metadata": {},
   "outputs": [],
   "source": []
  },
  {
   "cell_type": "code",
   "execution_count": null,
   "metadata": {},
   "outputs": [],
   "source": []
  },
  {
   "cell_type": "code",
   "execution_count": null,
   "metadata": {
    "collapsed": true
   },
   "outputs": [],
   "source": []
  }
 ],
 "metadata": {
  "kernelspec": {
   "display_name": "Julia 0.6.1",
   "language": "julia",
   "name": "julia-0.6"
  },
  "language_info": {
   "file_extension": ".jl",
   "mimetype": "application/julia",
   "name": "julia",
   "version": "0.6.1"
  }
 },
 "nbformat": 4,
 "nbformat_minor": 2
}
