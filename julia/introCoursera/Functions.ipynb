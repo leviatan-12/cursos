{
 "cells": [
  {
   "cell_type": "code",
   "execution_count": 4,
   "metadata": {},
   "outputs": [
    {
     "data": {
      "text/plain": [
       "(0.9800665778412416, 2.302585092994046, 5)"
      ]
     },
     "execution_count": 4,
     "metadata": {},
     "output_type": "execute_result"
    }
   ],
   "source": [
    "a,b,c = cos(0.2),log(10),abs(-5) # Asignación múltiple"
   ]
  },
  {
   "cell_type": "code",
   "execution_count": 7,
   "metadata": {},
   "outputs": [
    {
     "name": "stdout",
     "output_type": "stream",
     "text": [
      "search: \u001b[1mc\u001b[22m\u001b[1mo\u001b[22m\u001b[1ms\u001b[22m \u001b[1mc\u001b[22m\u001b[1mo\u001b[22m\u001b[1ms\u001b[22mh \u001b[1mc\u001b[22m\u001b[1mo\u001b[22m\u001b[1ms\u001b[22md \u001b[1mc\u001b[22m\u001b[1mo\u001b[22m\u001b[1ms\u001b[22mc \u001b[1mc\u001b[22m\u001b[1mo\u001b[22m\u001b[1ms\u001b[22mpi a\u001b[1mc\u001b[22m\u001b[1mo\u001b[22m\u001b[1ms\u001b[22m a\u001b[1mc\u001b[22m\u001b[1mo\u001b[22m\u001b[1ms\u001b[22mh a\u001b[1mc\u001b[22m\u001b[1mo\u001b[22m\u001b[1ms\u001b[22md \u001b[1mc\u001b[22m\u001b[1mo\u001b[22mn\u001b[1ms\u001b[22mt \u001b[1mc\u001b[22m\u001b[1mo\u001b[22mn\u001b[1ms\u001b[22mume \u001b[1mc\u001b[22mr\u001b[1mo\u001b[22m\u001b[1ms\u001b[22ms \u001b[1mc\u001b[22ml\u001b[1mo\u001b[22m\u001b[1ms\u001b[22me\n",
      "\n"
     ]
    },
    {
     "data": {
      "text/markdown": [
       "```\n",
       "cos(x)\n",
       "```\n",
       "\n",
       "Compute cosine of `x`, where `x` is in radians.\n"
      ],
      "text/plain": [
       "```\n",
       "cos(x)\n",
       "```\n",
       "\n",
       "Compute cosine of `x`, where `x` is in radians.\n"
      ]
     },
     "execution_count": 7,
     "metadata": {},
     "output_type": "execute_result"
    }
   ],
   "source": [
    "? cos # Para conseguir ayuda sobre la función"
   ]
  },
  {
   "cell_type": "code",
   "execution_count": 8,
   "metadata": {},
   "outputs": [
    {
     "name": "stdout",
     "output_type": "stream",
     "text": [
      "search: \u001b[1mA\u001b[22m\u001b[1mr\u001b[22m\u001b[1mr\u001b[22m\u001b[1ma\u001b[22m\u001b[1my\u001b[22m Sub\u001b[1mA\u001b[22m\u001b[1mr\u001b[22m\u001b[1mr\u001b[22m\u001b[1ma\u001b[22m\u001b[1my\u001b[22m Bit\u001b[1mA\u001b[22m\u001b[1mr\u001b[22m\u001b[1mr\u001b[22m\u001b[1ma\u001b[22m\u001b[1my\u001b[22m Conj\u001b[1mA\u001b[22m\u001b[1mr\u001b[22m\u001b[1mr\u001b[22m\u001b[1ma\u001b[22m\u001b[1my\u001b[22m Dense\u001b[1mA\u001b[22m\u001b[1mr\u001b[22m\u001b[1mr\u001b[22m\u001b[1ma\u001b[22m\u001b[1my\u001b[22m Strided\u001b[1mA\u001b[22m\u001b[1mr\u001b[22m\u001b[1mr\u001b[22m\u001b[1ma\u001b[22m\u001b[1my\u001b[22m\n",
      "\n"
     ]
    },
    {
     "data": {
      "text/markdown": [
       "```\n",
       "Array{T}(dims)\n",
       "Array{T,N}(dims)\n",
       "```\n",
       "\n",
       "Construct an uninitialized `N`-dimensional dense array with element type `T`, where `N` is determined from the length or number of `dims`. `dims` may be a tuple or a series of integer arguments corresponding to the lengths in each dimension. If the rank `N` is supplied explicitly as in `Array{T,N}(dims)`, then it must match the length or number of `dims`.\n",
       "\n",
       "# Example\n",
       "\n",
       "```jldoctest\n",
       "julia> A = Array{Float64, 2}(2, 2);\n",
       "\n",
       "julia> ndims(A)\n",
       "2\n",
       "\n",
       "julia> eltype(A)\n",
       "Float64\n",
       "```\n"
      ],
      "text/plain": [
       "```\n",
       "Array{T}(dims)\n",
       "Array{T,N}(dims)\n",
       "```\n",
       "\n",
       "Construct an uninitialized `N`-dimensional dense array with element type `T`, where `N` is determined from the length or number of `dims`. `dims` may be a tuple or a series of integer arguments corresponding to the lengths in each dimension. If the rank `N` is supplied explicitly as in `Array{T,N}(dims)`, then it must match the length or number of `dims`.\n",
       "\n",
       "# Example\n",
       "\n",
       "```jldoctest\n",
       "julia> A = Array{Float64, 2}(2, 2);\n",
       "\n",
       "julia> ndims(A)\n",
       "2\n",
       "\n",
       "julia> eltype(A)\n",
       "Float64\n",
       "```\n"
      ]
     },
     "execution_count": 8,
     "metadata": {},
     "output_type": "execute_result"
    }
   ],
   "source": [
    "? Array"
   ]
  },
  {
   "cell_type": "code",
   "execution_count": 10,
   "metadata": {},
   "outputs": [
    {
     "name": "stdout",
     "output_type": "stream",
     "text": [
      "search: \u001b[1ms\u001b[22m\u001b[1mi\u001b[22m\u001b[1mz\u001b[22m\u001b[1me\u001b[22m \u001b[1ms\u001b[22m\u001b[1mi\u001b[22m\u001b[1mz\u001b[22m\u001b[1me\u001b[22mof \u001b[1ms\u001b[22m\u001b[1mi\u001b[22m\u001b[1mz\u001b[22m\u001b[1me\u001b[22mhint! C\u001b[1ms\u001b[22m\u001b[1mi\u001b[22m\u001b[1mz\u001b[22m\u001b[1me\u001b[22m_t re\u001b[1ms\u001b[22m\u001b[1mi\u001b[22m\u001b[1mz\u001b[22m\u001b[1me\u001b[22m! file\u001b[1ms\u001b[22m\u001b[1mi\u001b[22m\u001b[1mz\u001b[22m\u001b[1me\u001b[22m C\u001b[1ms\u001b[22ms\u001b[1mi\u001b[22m\u001b[1mz\u001b[22m\u001b[1me\u001b[22m_t \u001b[1ms\u001b[22mer\u001b[1mi\u001b[22mali\u001b[1mz\u001b[22m\u001b[1me\u001b[22m\n",
      "\n"
     ]
    },
    {
     "data": {
      "text/markdown": [
       "```\n",
       "size(A::AbstractArray, [dim...])\n",
       "```\n",
       "\n",
       "Returns a tuple containing the dimensions of `A`. Optionally you can specify the dimension(s) you want the length of, and get the length of that dimension, or a tuple of the lengths of dimensions you asked for.\n",
       "\n",
       "```jldoctest\n",
       "julia> A = ones(2,3,4);\n",
       "\n",
       "julia> size(A, 2)\n",
       "3\n",
       "\n",
       "julia> size(A,3,2)\n",
       "(4, 3)\n",
       "```\n"
      ],
      "text/plain": [
       "```\n",
       "size(A::AbstractArray, [dim...])\n",
       "```\n",
       "\n",
       "Returns a tuple containing the dimensions of `A`. Optionally you can specify the dimension(s) you want the length of, and get the length of that dimension, or a tuple of the lengths of dimensions you asked for.\n",
       "\n",
       "```jldoctest\n",
       "julia> A = ones(2,3,4);\n",
       "\n",
       "julia> size(A, 2)\n",
       "3\n",
       "\n",
       "julia> size(A,3,2)\n",
       "(4, 3)\n",
       "```\n"
      ]
     },
     "execution_count": 10,
     "metadata": {},
     "output_type": "execute_result"
    }
   ],
   "source": [
    "? size"
   ]
  },
  {
   "cell_type": "code",
   "execution_count": 11,
   "metadata": {},
   "outputs": [
    {
     "name": "stdout",
     "output_type": "stream",
     "text": [
      "search: \u001b[1ms\u001b[22m\u001b[1mo\u001b[22m\u001b[1mr\u001b[22m\u001b[1mt\u001b[22m \u001b[1ms\u001b[22m\u001b[1mo\u001b[22m\u001b[1mr\u001b[22m\u001b[1mt\u001b[22m! \u001b[1ms\u001b[22m\u001b[1mo\u001b[22m\u001b[1mr\u001b[22m\u001b[1mt\u001b[22mrows \u001b[1ms\u001b[22m\u001b[1mo\u001b[22m\u001b[1mr\u001b[22m\u001b[1mt\u001b[22mperm \u001b[1ms\u001b[22m\u001b[1mo\u001b[22m\u001b[1mr\u001b[22m\u001b[1mt\u001b[22mcols \u001b[1ms\u001b[22m\u001b[1mo\u001b[22m\u001b[1mr\u001b[22m\u001b[1mt\u001b[22mperm! C\u001b[1ms\u001b[22mh\u001b[1mo\u001b[22m\u001b[1mr\u001b[22m\u001b[1mt\u001b[22m i\u001b[1ms\u001b[22ms\u001b[1mo\u001b[22m\u001b[1mr\u001b[22m\u001b[1mt\u001b[22med\n",
      "\n"
     ]
    },
    {
     "data": {
      "text/markdown": [
       "```\n",
       "sort(v; alg::Algorithm=defalg(v), lt=isless, by=identity, rev::Bool=false, order::Ordering=Forward)\n",
       "```\n",
       "\n",
       "Variant of [`sort!`](@ref) that returns a sorted copy of `v` leaving `v` itself unmodified.\n",
       "\n",
       "# Examples\n",
       "\n",
       "```jldoctest\n",
       "julia> v = [3, 1, 2];\n",
       "\n",
       "julia> sort(v)\n",
       "3-element Array{Int64,1}:\n",
       " 1\n",
       " 2\n",
       " 3\n",
       "\n",
       "julia> v\n",
       "3-element Array{Int64,1}:\n",
       " 3\n",
       " 1\n",
       " 2\n",
       "```\n",
       "\n",
       "```\n",
       "sort(A, dim::Integer; alg::Algorithm=DEFAULT_UNSTABLE, lt=isless, by=identity, rev::Bool=false, order::Ordering=Forward, initialized::Bool=false)\n",
       "```\n",
       "\n",
       "Sort a multidimensional array `A` along the given dimension. See [`sort!`](@ref) for a description of possible keyword arguments.\n",
       "\n",
       "# Examples\n",
       "\n",
       "```jldoctest\n",
       "julia> A = [4 3; 1 2]\n",
       "2×2 Array{Int64,2}:\n",
       " 4  3\n",
       " 1  2\n",
       "\n",
       "julia> sort(A, 1)\n",
       "2×2 Array{Int64,2}:\n",
       " 1  2\n",
       " 4  3\n",
       "\n",
       "julia> sort(A, 2)\n",
       "2×2 Array{Int64,2}:\n",
       " 3  4\n",
       " 1  2\n",
       "```\n"
      ],
      "text/plain": [
       "```\n",
       "sort(v; alg::Algorithm=defalg(v), lt=isless, by=identity, rev::Bool=false, order::Ordering=Forward)\n",
       "```\n",
       "\n",
       "Variant of [`sort!`](@ref) that returns a sorted copy of `v` leaving `v` itself unmodified.\n",
       "\n",
       "# Examples\n",
       "\n",
       "```jldoctest\n",
       "julia> v = [3, 1, 2];\n",
       "\n",
       "julia> sort(v)\n",
       "3-element Array{Int64,1}:\n",
       " 1\n",
       " 2\n",
       " 3\n",
       "\n",
       "julia> v\n",
       "3-element Array{Int64,1}:\n",
       " 3\n",
       " 1\n",
       " 2\n",
       "```\n",
       "\n",
       "```\n",
       "sort(A, dim::Integer; alg::Algorithm=DEFAULT_UNSTABLE, lt=isless, by=identity, rev::Bool=false, order::Ordering=Forward, initialized::Bool=false)\n",
       "```\n",
       "\n",
       "Sort a multidimensional array `A` along the given dimension. See [`sort!`](@ref) for a description of possible keyword arguments.\n",
       "\n",
       "# Examples\n",
       "\n",
       "```jldoctest\n",
       "julia> A = [4 3; 1 2]\n",
       "2×2 Array{Int64,2}:\n",
       " 4  3\n",
       " 1  2\n",
       "\n",
       "julia> sort(A, 1)\n",
       "2×2 Array{Int64,2}:\n",
       " 1  2\n",
       " 4  3\n",
       "\n",
       "julia> sort(A, 2)\n",
       "2×2 Array{Int64,2}:\n",
       " 3  4\n",
       " 1  2\n",
       "```\n"
      ]
     },
     "execution_count": 11,
     "metadata": {},
     "output_type": "execute_result"
    }
   ],
   "source": [
    "?sort"
   ]
  },
  {
   "cell_type": "code",
   "execution_count": 13,
   "metadata": {},
   "outputs": [
    {
     "data": {
      "text/html": [
       "5 methods for generic function <b>sort</b>:<ul><li> sort(r::<b>AbstractUnitRange</b>) at <a href=\"https://github.com/JuliaLang/julia/tree/0d7248e2ff65bd6886ba3f003bf5aeab929edab5/base/range.jl#L842\" target=\"_blank\">range.jl:842</a></li> <li> sort(r::<b>Range</b>) at <a href=\"https://github.com/JuliaLang/julia/tree/0d7248e2ff65bd6886ba3f003bf5aeab929edab5/base/range.jl#L845\" target=\"_blank\">range.jl:845</a></li> <li> sort<i>{Tv, Ti}</i>(x::<b>SparseVector{Tv,Ti}</b>; <i>kws...</i>) at <a href=\"https://github.com/JuliaLang/julia/tree/0d7248e2ff65bd6886ba3f003bf5aeab929edab5/base/sparse/sparsevector.jl#L1878\" target=\"_blank\">sparse/sparsevector.jl:1878</a></li> <li> sort(v::<b>AbstractArray{T,1} where T</b>; <i>kws...</i>) at <a href=\"https://github.com/JuliaLang/julia/tree/0d7248e2ff65bd6886ba3f003bf5aeab929edab5/base/sort.jl#L546\" target=\"_blank\">sort.jl:546</a></li> <li> sort(A::<b>AbstractArray</b>, dim::<b>Integer</b>; <i>alg, lt, by, rev, order, initialized</i>) at <a href=\"https://github.com/JuliaLang/julia/tree/0d7248e2ff65bd6886ba3f003bf5aeab929edab5/base/sort.jl#L729\" target=\"_blank\">sort.jl:729</a></li> </ul>"
      ],
      "text/plain": [
       "# 5 methods for generic function \"sort\":\n",
       "sort(r::AbstractUnitRange) in Base at range.jl:842\n",
       "sort(r::Range) in Base at range.jl:845\n",
       "sort(x::SparseVector{Tv,Ti}; kws...) where {Tv, Ti} in Base.SparseArrays at sparse/sparsevector.jl:1878\n",
       "sort(v::AbstractArray{T,1} where T; kws...) in Base.Sort at sort.jl:546\n",
       "sort(A::AbstractArray, dim::Integer; alg, lt, by, rev, order, initialized) in Base.Sort at sort.jl:729"
      ]
     },
     "execution_count": 13,
     "metadata": {},
     "output_type": "execute_result"
    }
   ],
   "source": [
    "methods(sort) # Sirve para checar cuantos tipos de datos se aceptan."
   ]
  },
  {
   "cell_type": "code",
   "execution_count": 14,
   "metadata": {},
   "outputs": [
    {
     "data": {
      "text/plain": [
       "mifuncion (generic function with 1 method)"
      ]
     },
     "execution_count": 14,
     "metadata": {},
     "output_type": "execute_result"
    }
   ],
   "source": [
    "mifuncion(parametro) = 20*parametro # Para funciones de una sola linea."
   ]
  },
  {
   "cell_type": "code",
   "execution_count": 16,
   "metadata": {},
   "outputs": [
    {
     "data": {
      "text/plain": [
       "204.0"
      ]
     },
     "execution_count": 16,
     "metadata": {},
     "output_type": "execute_result"
    },
    {
     "name": "stdout",
     "output_type": "stream",
     "text": [
      "search: \u001b[1mf\u001b[22m\u001b[1mu\u001b[22m\u001b[1mn\u001b[22m\u001b[1mc\u001b[22m\u001b[1mt\u001b[22m\u001b[1mi\u001b[22m\u001b[1mo\u001b[22m\u001b[1mn\u001b[22m \u001b[1mF\u001b[22m\u001b[1mu\u001b[22m\u001b[1mn\u001b[22m\u001b[1mc\u001b[22m\u001b[1mt\u001b[22m\u001b[1mi\u001b[22m\u001b[1mo\u001b[22m\u001b[1mn\u001b[22m \u001b[1mf\u001b[22m\u001b[1mu\u001b[22m\u001b[1mn\u001b[22m\u001b[1mc\u001b[22m\u001b[1mt\u001b[22m\u001b[1mi\u001b[22m\u001b[1mo\u001b[22m\u001b[1mn\u001b[22mloc c\u001b[1mf\u001b[22m\u001b[1mu\u001b[22m\u001b[1mn\u001b[22m\u001b[1mc\u001b[22m\u001b[1mt\u001b[22m\u001b[1mi\u001b[22m\u001b[1mo\u001b[22m\u001b[1mn\u001b[22m @\u001b[1mf\u001b[22m\u001b[1mu\u001b[22m\u001b[1mn\u001b[22m\u001b[1mc\u001b[22m\u001b[1mt\u001b[22m\u001b[1mi\u001b[22m\u001b[1mo\u001b[22m\u001b[1mn\u001b[22mloc\n",
      "\n"
     ]
    }
   ],
   "source": [
    "mifuncion(10.2)"
   ]
  },
  {
   "cell_type": "code",
   "execution_count": 18,
   "metadata": {},
   "outputs": [
    {
     "data": {
      "text/plain": [
       "nuevaFuncion (generic function with 1 method)"
      ]
     },
     "execution_count": 18,
     "metadata": {},
     "output_type": "execute_result"
    }
   ],
   "source": [
    "#Para crear funciones con más de una linea de código\n",
    "function nuevaFuncion(a,b,c)\n",
    "    a*b+c\n",
    "end"
   ]
  },
  {
   "cell_type": "code",
   "execution_count": 19,
   "metadata": {},
   "outputs": [
    {
     "data": {
      "text/plain": [
       "5"
      ]
     },
     "execution_count": 19,
     "metadata": {},
     "output_type": "execute_result"
    }
   ],
   "source": [
    "nuevaFuncion(1,2,3)"
   ]
  },
  {
   "cell_type": "code",
   "execution_count": 10,
   "metadata": {},
   "outputs": [
    {
     "data": {
      "text/plain": [
       "funcionPrueba (generic function with 1 method)"
      ]
     },
     "execution_count": 10,
     "metadata": {},
     "output_type": "execute_result"
    }
   ],
   "source": [
    "function funcionPrueba(var)\n",
    "    println(\"Hola $(typeof(var))\")\n",
    "end"
   ]
  },
  {
   "cell_type": "code",
   "execution_count": 12,
   "metadata": {},
   "outputs": [
    {
     "name": "stdout",
     "output_type": "stream",
     "text": [
      "Hola Int64\n",
      "Prueba 10\n"
     ]
    }
   ],
   "source": [
    "funcionPrueba(10)"
   ]
  },
  {
   "cell_type": "code",
   "execution_count": 13,
   "metadata": {},
   "outputs": [
    {
     "name": "stdout",
     "output_type": "stream",
     "text": [
      "Hola Array{Any,1}\n",
      "Prueba Any['a', 2.0]\n"
     ]
    }
   ],
   "source": [
    "α = ['a',2.]\n",
    "funcionPrueba(α)"
   ]
  },
  {
   "cell_type": "code",
   "execution_count": 14,
   "metadata": {},
   "outputs": [
    {
     "name": "stdout",
     "output_type": "stream",
     "text": [
      "search: \u001b[1m\\\u001b[22m .\u001b[1m\\\u001b[22m\n",
      "\n"
     ]
    },
    {
     "data": {
      "text/markdown": [
       "```\n",
       "\\(x, y)\n",
       "```\n",
       "\n",
       "Left division operator: multiplication of `y` by the inverse of `x` on the left. Gives floating-point results for integer arguments.\n",
       "\n",
       "```jldoctest\n",
       "julia> 3 \\ 6\n",
       "2.0\n",
       "\n",
       "julia> inv(3) * 6\n",
       "2.0\n",
       "\n",
       "julia> A = [1 2; 3 4]; x = [5, 6];\n",
       "\n",
       "julia> A \\ x\n",
       "2-element Array{Float64,1}:\n",
       " -4.0\n",
       "  4.5\n",
       "\n",
       "julia> inv(A) * x\n",
       "2-element Array{Float64,1}:\n",
       " -4.0\n",
       "  4.5\n",
       "```\n",
       "\n",
       "```\n",
       "\\(A, B)\n",
       "```\n",
       "\n",
       "Matrix division using a polyalgorithm. For input matrices `A` and `B`, the result `X` is such that `A*X == B` when `A` is square. The solver that is used depends upon the structure of `A`.  If `A` is upper or lower triangular (or diagonal), no factorization of `A` is required and the system is solved with either forward or backward substitution. For non-triangular square matrices, an LU factorization is used.\n",
       "\n",
       "For rectangular `A` the result is the minimum-norm least squares solution computed by a pivoted QR factorization of `A` and a rank estimate of `A` based on the R factor.\n",
       "\n",
       "When `A` is sparse, a similar polyalgorithm is used. For indefinite matrices, the `LDLt` factorization does not use pivoting during the numerical factorization and therefore the procedure can fail even for invertible matrices.\n",
       "\n",
       "# Example\n",
       "\n",
       "```jldoctest\n",
       "julia> A = [1 0; 1 -2]; B = [32; -4];\n",
       "\n",
       "julia> X = A \\ B\n",
       "2-element Array{Float64,1}:\n",
       " 32.0\n",
       " 18.0\n",
       "\n",
       "julia> A * X == B\n",
       "true\n",
       "```\n"
      ],
      "text/plain": [
       "```\n",
       "\\(x, y)\n",
       "```\n",
       "\n",
       "Left division operator: multiplication of `y` by the inverse of `x` on the left. Gives floating-point results for integer arguments.\n",
       "\n",
       "```jldoctest\n",
       "julia> 3 \\ 6\n",
       "2.0\n",
       "\n",
       "julia> inv(3) * 6\n",
       "2.0\n",
       "\n",
       "julia> A = [1 2; 3 4]; x = [5, 6];\n",
       "\n",
       "julia> A \\ x\n",
       "2-element Array{Float64,1}:\n",
       " -4.0\n",
       "  4.5\n",
       "\n",
       "julia> inv(A) * x\n",
       "2-element Array{Float64,1}:\n",
       " -4.0\n",
       "  4.5\n",
       "```\n",
       "\n",
       "```\n",
       "\\(A, B)\n",
       "```\n",
       "\n",
       "Matrix division using a polyalgorithm. For input matrices `A` and `B`, the result `X` is such that `A*X == B` when `A` is square. The solver that is used depends upon the structure of `A`.  If `A` is upper or lower triangular (or diagonal), no factorization of `A` is required and the system is solved with either forward or backward substitution. For non-triangular square matrices, an LU factorization is used.\n",
       "\n",
       "For rectangular `A` the result is the minimum-norm least squares solution computed by a pivoted QR factorization of `A` and a rank estimate of `A` based on the R factor.\n",
       "\n",
       "When `A` is sparse, a similar polyalgorithm is used. For indefinite matrices, the `LDLt` factorization does not use pivoting during the numerical factorization and therefore the procedure can fail even for invertible matrices.\n",
       "\n",
       "# Example\n",
       "\n",
       "```jldoctest\n",
       "julia> A = [1 0; 1 -2]; B = [32; -4];\n",
       "\n",
       "julia> X = A \\ B\n",
       "2-element Array{Float64,1}:\n",
       " 32.0\n",
       " 18.0\n",
       "\n",
       "julia> A * X == B\n",
       "true\n",
       "```\n"
      ]
     },
     "execution_count": 14,
     "metadata": {},
     "output_type": "execute_result"
    }
   ],
   "source": [
    "? \\"
   ]
  },
  {
   "cell_type": "code",
   "execution_count": 16,
   "metadata": {},
   "outputs": [
    {
     "data": {
      "text/plain": [
       "add2 (generic function with 1 method)"
      ]
     },
     "execution_count": 16,
     "metadata": {},
     "output_type": "execute_result"
    }
   ],
   "source": [
    "add2(x,y) = return x+y"
   ]
  },
  {
   "cell_type": "code",
   "execution_count": 17,
   "metadata": {},
   "outputs": [
    {
     "data": {
      "text/plain": [
       "3"
      ]
     },
     "execution_count": 17,
     "metadata": {},
     "output_type": "execute_result"
    }
   ],
   "source": [
    "add2(1,2)"
   ]
  },
  {
   "cell_type": "code",
   "execution_count": 18,
   "metadata": {},
   "outputs": [
    {
     "data": {
      "text/plain": [
       "coordinates (generic function with 3 methods)"
      ]
     },
     "execution_count": 18,
     "metadata": {},
     "output_type": "execute_result"
    }
   ],
   "source": [
    "function coordinates(x, y=0, z=0)\n",
    "  println(\"($x, $y, $z)\")\n",
    "end"
   ]
  },
  {
   "cell_type": "code",
   "execution_count": 19,
   "metadata": {},
   "outputs": [
    {
     "name": "stdout",
     "output_type": "stream",
     "text": [
      "(1, 0, 0)\n"
     ]
    }
   ],
   "source": [
    "coordinates(1,0)"
   ]
  },
  {
   "cell_type": "code",
   "execution_count": 20,
   "metadata": {},
   "outputs": [
    {
     "name": "stdout",
     "output_type": "stream",
     "text": [
      "22\n"
     ]
    }
   ],
   "source": [
    "function test(input)\n",
    "  println(\"$input\"^2)\n",
    "end\n",
    "\n",
    "test(2)"
   ]
  },
  {
   "cell_type": "code",
   "execution_count": null,
   "metadata": {
    "collapsed": true
   },
   "outputs": [],
   "source": []
  }
 ],
 "metadata": {
  "kernelspec": {
   "display_name": "Julia 0.6.1",
   "language": "julia",
   "name": "julia-0.6"
  },
  "language_info": {
   "file_extension": ".jl",
   "mimetype": "application/julia",
   "name": "julia",
   "version": "0.6.1"
  }
 },
 "nbformat": 4,
 "nbformat_minor": 2
}
