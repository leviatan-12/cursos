{
 "cells": [
  {
   "cell_type": "code",
   "execution_count": 2,
   "metadata": {},
   "outputs": [
    {
     "data": {
      "text/plain": [
       "54×9 Array{Any,2}:\n",
       " \"25-Nov-15\"     \"28,637\"  …     \"4,808\"     \"14,122\"     \"3,955\"\n",
       " \"18-Nov-15\"     \"28,634\"        \"4,808\"     \"14,122\"     \"3,955\"\n",
       " \"11-Nov-15\"     \"28,635\"        \"4,808\"     \"14,122\"     \"3,955\"\n",
       " \"4-Nov-15\"      \"28,607\"        \"4,808\"     \"14,089\"     \"3,955\"\n",
       " \"25-Oct-15\"     \"28,539\"        \"4,808\"     \"14,061\"     \"3,955\"\n",
       " \"18-Oct-15\"     \"28,476\"  …     \"4,808\"     \"14,001\"     \"3,955\"\n",
       " \"11-Oct-15\"     \"28,454\"        \"4,808\"     \"13,982\"     \"3,955\"\n",
       " \"27-Sep-15\"     \"28,388\"        \"4,808\"     \"13,911\"     \"3,955\"\n",
       " \"20-Sep-15\"     \"28,295\"        \"4,808\"     \"13,823\"     \"3,955\"\n",
       " \"13-Sep-15\"     \"28,220\"        \"4,808\"     \"13,756\"     \"3,953\"\n",
       " \"6-Sep-15\"      \"28,147\"  …     \"4,808\"     \"13,683\"     \"3,953\"\n",
       " \"30-Aug-15\"     \"28,073\"        \"4,808\"     \"13,609\"     \"3,953\"\n",
       " \"16-Aug-15\"     \"27,952\"        \"4,808\"     \"13,494\"     \"3,952\"\n",
       " ⋮                         ⋱                                     \n",
       " \"9-Aug-14\"      \"1,835\"      323         730          315       \n",
       " \"30-Jul-14\"     \"1,437\"      227         574          252       \n",
       " \"23-Jul-14\"     \"1,201\"      129         525          224       \n",
       " \"14-Jul-14\"  982          …  106         397          197       \n",
       " \"2-Jul-14\"   779              75         252          101       \n",
       " \"17-Jun-14\"  528              24          97           49       \n",
       " \"27-May-14\"  309              11          16            5       \n",
       " \"12-May-14\"  260              11            \"–\"          \"–\"    \n",
       " \"1-May-14\"   239          …   11            \"-\"          \"-\"    \n",
       " \"14-Apr-14\"  176               2            \"–\"          \"–\"    \n",
       " \"31-Mar-14\"  130               2            \"–\"          \"–\"    \n",
       " \"22-Mar-14\"   49                \"–\"         \"–\"          \"–\"    "
      ]
     },
     "execution_count": 2,
     "metadata": {},
     "output_type": "execute_result"
    }
   ],
   "source": [
    "wikiData = readdlm(\"wikipedia.csv\",',')"
   ]
  },
  {
   "cell_type": "code",
   "execution_count": 47,
   "metadata": {},
   "outputs": [
    {
     "data": {
      "text/plain": [
       "cambiarMesesNum (generic function with 3 methods)"
      ]
     },
     "execution_count": 47,
     "metadata": {},
     "output_type": "execute_result"
    }
   ],
   "source": [
    "function cambiarMesesNum(mes::SubString{String})\n",
    "    if mes == \"Jan\"\n",
    "        return \"1\"\n",
    "    elseif mes == \"Feb\"\n",
    "        return \"2\"      \n",
    "    elseif mes == \"Mar\"\n",
    "        return \"3\"\n",
    "    elseif mes == \"Apr\"\n",
    "        return \"4\"\n",
    "    elseif mes == \"May\"\n",
    "        return \"5\"\n",
    "    elseif mes == \"Jun\"\n",
    "        return \"6\"\n",
    "    elseif mes == \"Jul\"\n",
    "        return \"7\"\n",
    "    elseif mes == \"Aug\"\n",
    "        return \"8\"\n",
    "    elseif mes == \"Sep\"\n",
    "        return \"9\"\n",
    "    elseif mes == \"Oct\"\n",
    "        return \"10\"\n",
    "    elseif mes == \"Nov\"\n",
    "        return \"11\"\n",
    "    elseif mes == \"Dec\"\n",
    "        return \"12\"\n",
    "    end     \n",
    "end\n"
   ]
  },
  {
   "cell_type": "code",
   "execution_count": 48,
   "metadata": {},
   "outputs": [
    {
     "data": {
      "text/plain": [
       "\"22/11/2016\""
      ]
     },
     "execution_count": 48,
     "metadata": {},
     "output_type": "execute_result"
    },
    {
     "name": "stdout",
     "output_type": "stream",
     "text": [
      "search: \u001b[1mf\u001b[22m\u001b[1mo\u001b[22m\u001b[1mr\u001b[22m \u001b[1mf\u001b[22m\u001b[1mo\u001b[22m\u001b[1mr\u001b[22meach Uni\u001b[1mf\u001b[22m\u001b[1mo\u001b[22m\u001b[1mr\u001b[22mmScaling Date\u001b[1mF\u001b[22m\u001b[1mo\u001b[22m\u001b[1mr\u001b[22mmat @date\u001b[1mf\u001b[22m\u001b[1mo\u001b[22m\u001b[1mr\u001b[22mmat_str \u001b[1mf\u001b[22m\u001b[1mo\u001b[22mld\u001b[1mr\u001b[22m \u001b[1mf\u001b[22ml\u001b[1mo\u001b[22mo\u001b[1mr\u001b[22m\n",
      "\n"
     ]
    }
   ],
   "source": [
    "function cambiarFechas(cadena::String)\n",
    "    cadenaDividida = split(cadena,'-')\n",
    "    return cadenaDividida[1]*\"/\"*cambiarMesesNum(cadenaDividida[2])*\"/\"*cadenaDividida[3]\n",
    "end\n",
    "\n",
    "cambiarFechas(\"22-Nov-2016\")"
   ]
  },
  {
   "cell_type": "code",
   "execution_count": 53,
   "metadata": {},
   "outputs": [
    {
     "name": "stdout",
     "output_type": "stream",
     "text": [
      "1\n",
      "a\n",
      "c\n",
      "2.0\n",
      "20\n",
      "10\n",
      "search: \u001b[1mf\u001b[22m\u001b[1mo\u001b[22m\u001b[1mr\u001b[22m \u001b[1mf\u001b[22m\u001b[1mo\u001b[22m\u001b[1mr\u001b[22meach Uni\u001b[1mf\u001b[22m\u001b[1mo\u001b[22m\u001b[1mr\u001b[22mmScaling Date\u001b[1mF\u001b[22m\u001b[1mo\u001b[22m\u001b[1mr\u001b[22mmat @date\u001b[1mf\u001b[22m\u001b[1mo\u001b[22m\u001b[1mr\u001b[22mmat_str \u001b[1mf\u001b[22m\u001b[1mo\u001b[22mld\u001b[1mr\u001b[22m \u001b[1mf\u001b[22ml\u001b[1mo\u001b[22mo\u001b[1mr\u001b[22m\n",
      "\n"
     ]
    }
   ],
   "source": [
    "#=for i = 1:10\n",
    "    println(i)\n",
    "end=#\n",
    "\n",
    "value = [1,\"a\",'c',2.0,10*2,10]\n",
    "for i in value\n",
    "     println(i)\n",
    "end"
   ]
  },
  {
   "cell_type": "code",
   "execution_count": 62,
   "metadata": {},
   "outputs": [
    {
     "data": {
      "text/plain": [
       "54-element Array{Any,1}:\n",
       " 0015-11-25T00:00:00\n",
       " 0015-11-18T00:00:00\n",
       " 0015-11-11T00:00:00\n",
       " 0015-11-04T00:00:00\n",
       " 0015-10-25T00:00:00\n",
       " 0015-10-18T00:00:00\n",
       " 0015-10-11T00:00:00\n",
       " 0015-09-27T00:00:00\n",
       " 0015-09-20T00:00:00\n",
       " 0015-09-13T00:00:00\n",
       " 0015-09-06T00:00:00\n",
       " 0015-08-30T00:00:00\n",
       " 0015-08-16T00:00:00\n",
       " ⋮                  \n",
       " 0014-08-09T00:00:00\n",
       " 0014-07-30T00:00:00\n",
       " 0014-07-23T00:00:00\n",
       " 0014-07-14T00:00:00\n",
       " 0014-07-02T00:00:00\n",
       " 0014-06-17T00:00:00\n",
       " 0014-05-27T00:00:00\n",
       " 0014-05-12T00:00:00\n",
       " 0014-05-01T00:00:00\n",
       " 0014-04-14T00:00:00\n",
       " 0014-03-31T00:00:00\n",
       " 0014-03-22T00:00:00"
      ]
     },
     "execution_count": 62,
     "metadata": {},
     "output_type": "execute_result"
    }
   ],
   "source": [
    "primeraCol = wikiData[:,1]\n",
    "\n",
    "for i = 1:54\n",
    "    primeraCol[i] = DateTime(primeraCol[i],\"d-u-y\")\n",
    "end\n",
    "\n",
    "primeraCol"
   ]
  },
  {
   "cell_type": "code",
   "execution_count": 64,
   "metadata": {},
   "outputs": [
    {
     "data": {
      "text/plain": [
       "54-element Array{Int64,1}:\n",
       " 613\n",
       " 606\n",
       " 599\n",
       " 592\n",
       " 582\n",
       " 575\n",
       " 568\n",
       " 554\n",
       " 547\n",
       " 540\n",
       " 533\n",
       " 526\n",
       " 512\n",
       "   ⋮\n",
       " 140\n",
       " 130\n",
       " 123\n",
       " 114\n",
       " 102\n",
       "  87\n",
       "  66\n",
       "  51\n",
       "  40\n",
       "  23\n",
       "   9\n",
       "   0"
      ]
     },
     "execution_count": 64,
     "metadata": {},
     "output_type": "execute_result"
    }
   ],
   "source": [
    "dateToIncremental(x) = Dates.datetime2rata(x) - Dates.datetime2rata(primeraCol[54])\n",
    "epiDays = Array{Int64}(54)\n",
    "for i = 1:54\n",
    "    epiDays[i] = dateToIncremental(primeraCol[i])\n",
    "end\n",
    "\n",
    "epiDays"
   ]
  },
  {
   "cell_type": "code",
   "execution_count": 66,
   "metadata": {
    "collapsed": true
   },
   "outputs": [],
   "source": [
    "wikiData[:,1] = epiDays\n",
    "writedlm(\"wikidataEdit.csv\",wikiData,',')"
   ]
  },
  {
   "cell_type": "code",
   "execution_count": 67,
   "metadata": {},
   "outputs": [
    {
     "data": {
      "text/plain": [
       "12"
      ]
     },
     "execution_count": 67,
     "metadata": {},
     "output_type": "execute_result"
    }
   ],
   "source": [
    "summedvals = 3\n",
    "for k = 1:2:5  \n",
    "  summedvals = summedvals + k\n",
    "end\n",
    "summedvals"
   ]
  },
  {
   "cell_type": "code",
   "execution_count": 68,
   "metadata": {},
   "outputs": [
    {
     "data": {
      "text/plain": [
       "2"
      ]
     },
     "execution_count": 68,
     "metadata": {},
     "output_type": "execute_result"
    }
   ],
   "source": [
    "function test(x)\n",
    "    if x==1 \n",
    "        return 1\n",
    "    end\n",
    "    if x<=0\n",
    "        return 0\n",
    "    end\n",
    "    return test(x-1)+test(x-2)\n",
    "end\n",
    "test(3)"
   ]
  },
  {
   "cell_type": "code",
   "execution_count": 1,
   "metadata": {},
   "outputs": [],
   "source": [
    "using Plots"
   ]
  },
  {
   "cell_type": "code",
   "execution_count": 7,
   "metadata": {},
   "outputs": [
    {
     "data": {
      "text/plain": [
       "Plots.PyPlotBackend()"
      ]
     },
     "execution_count": 7,
     "metadata": {},
     "output_type": "execute_result"
    }
   ],
   "source": [
    "pyplot()"
   ]
  },
  {
   "cell_type": "code",
   "execution_count": 5,
   "metadata": {},
   "outputs": [
    {
     "name": "stderr",
     "output_type": "stream",
     "text": [
      "\u001b[1m\u001b[36mINFO: \u001b[39m\u001b[22m\u001b[36mCloning cache of LaTeXStrings from https://github.com/stevengj/LaTeXStrings.jl.git\n",
      "\u001b[39m\u001b[1m\u001b[36mINFO: \u001b[39m\u001b[22m\u001b[36mCloning cache of MacroTools from https://github.com/MikeInnes/MacroTools.jl.git\n",
      "\u001b[39m\u001b[1m\u001b[36mINFO: \u001b[39m\u001b[22m\u001b[36mCloning cache of PyCall from https://github.com/JuliaPy/PyCall.jl.git\n",
      "\u001b[39m\u001b[1m\u001b[36mINFO: \u001b[39m\u001b[22m\u001b[36mCloning cache of PyPlot from https://github.com/JuliaPy/PyPlot.jl.git\n",
      "\u001b[39m\u001b[1m\u001b[36mINFO: \u001b[39m\u001b[22m\u001b[36mInstalling LaTeXStrings v0.3.0\n",
      "\u001b[39m\u001b[1m\u001b[36mINFO: \u001b[39m\u001b[22m\u001b[36mInstalling MacroTools v0.4.0\n",
      "\u001b[39m\u001b[1m\u001b[36mINFO: \u001b[39m\u001b[22m\u001b[36mInstalling PyCall v1.15.0\n",
      "\u001b[39m\u001b[1m\u001b[36mINFO: \u001b[39m\u001b[22m\u001b[36mInstalling PyPlot v2.3.2\n",
      "\u001b[39m\u001b[1m\u001b[36mINFO: \u001b[39m\u001b[22m\u001b[36mBuilding Conda\n",
      "\u001b[39m\u001b[1m\u001b[36mINFO: \u001b[39m\u001b[22m\u001b[36mBuilding PyCall\n",
      "\u001b[39m\u001b[1m\u001b[36mINFO: \u001b[39m\u001b[22m\u001b[36mPyCall is using python (Python 3.6.1) at /home/ricardo/anaconda3/bin/python, libpython = /home/ricardo/anaconda3/lib/libpython3.6m\n",
      "\u001b[39m\u001b[1m\u001b[36mINFO: \u001b[39m\u001b[22m\u001b[36m/home/ricardo/.julia/v0.6/PyCall/deps/deps.jl has been updated\n",
      "\u001b[39m\u001b[1m\u001b[36mINFO: \u001b[39m\u001b[22m\u001b[36m/home/ricardo/.julia/v0.6/PyCall/deps/PYTHON has been updated\n",
      "\u001b[39m\u001b[1m\u001b[36mINFO: \u001b[39m\u001b[22m\u001b[36mPackage database updated\n",
      "\u001b[39m\u001b[1m\u001b[36mINFO: \u001b[39m\u001b[22m\u001b[36mMETADATA is out-of-date — you may not have the latest version of PyPlot\n",
      "\u001b[39m\u001b[1m\u001b[36mINFO: \u001b[39m\u001b[22m\u001b[36mUse `Pkg.update()` to get the latest versions of your packages\n",
      "\u001b[39m"
     ]
    }
   ],
   "source": [
    "Pkg.add(\"PyPlot\")"
   ]
  },
  {
   "cell_type": "code",
   "execution_count": 10,
   "metadata": {},
   "outputs": [
    {
     "data": {
      "text/plain": [
       "54-element Array{Any,1}:\n",
       " 28637\n",
       " 28634\n",
       " 28635\n",
       " 28607\n",
       " 28539\n",
       " 28476\n",
       " 28454\n",
       " 28388\n",
       " 28295\n",
       " 28220\n",
       " 28147\n",
       " 28073\n",
       " 27952\n",
       "     ⋮\n",
       "  1835\n",
       "  1437\n",
       "  1201\n",
       "   982\n",
       "   779\n",
       "   528\n",
       "   309\n",
       "   260\n",
       "   239\n",
       "   176\n",
       "   130\n",
       "    49"
      ]
     },
     "execution_count": 10,
     "metadata": {},
     "output_type": "execute_result"
    }
   ],
   "source": [
    "EVData = readdlm(\"wikidataEdit.csv\",',')\n",
    "epidemic_days = EVData[:,1]\n",
    "all_cases = EVData[:,2]"
   ]
  },
  {
   "cell_type": "code",
   "execution_count": 11,
   "metadata": {},
   "outputs": [
    {
     "data": {
      "text/html": [
       "<img src=\"data:image/png;base64,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\" />"
      ]
     },
     "execution_count": 11,
     "metadata": {},
     "output_type": "execute_result"
    }
   ],
   "source": [
    "plot(epidemic_days,all_cases)"
   ]
  },
  {
   "cell_type": "code",
   "execution_count": 14,
   "metadata": {},
   "outputs": [
    {
     "name": "stderr",
     "output_type": "stream",
     "text": [
      "\u001b[1m\u001b[33mWARNING: \u001b[39m\u001b[22m\u001b[33mSkipped marker arg diamon.\u001b[39m\n"
     ]
    },
    {
     "data": {
      "text/html": [
       "<img src=\"data:image/png;base64,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\" />"
      ]
     },
     "execution_count": 14,
     "metadata": {},
     "output_type": "execute_result"
    }
   ],
   "source": [
    "plot(epidemic_days,all_cases,linetype= :scatter, marker = :diamon)"
   ]
  },
  {
   "cell_type": "code",
   "execution_count": 22,
   "metadata": {},
   "outputs": [
    {
     "data": {
      "text/html": [
       "<img src=\"data:image/png;base64,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\" />"
      ]
     },
     "execution_count": 22,
     "metadata": {},
     "output_type": "execute_result"
    }
   ],
   "source": [
    "plot(epidemic_days,all_cases,\n",
    "    title = \"Epidemia de Ebola en el este de África\",\n",
    "    xlabel = \"Dias desde el 22 de Marzo de 2014\",\n",
    "    ylabel = \"Número de casos hasta la fecha\",\n",
    "    grid = false,\n",
    "    legend = false,\n",
    "    marker = (:diamond, 4),\n",
    "    line = false\n",
    ")"
   ]
  },
  {
   "cell_type": "code",
   "execution_count": 24,
   "metadata": {
    "collapsed": true
   },
   "outputs": [],
   "source": [
    "savefig(\"ArchivoPNGxDefault\")\n",
    "savefig(\"ArchivoPDF.pdf\")"
   ]
  },
  {
   "cell_type": "code",
   "execution_count": null,
   "metadata": {
    "collapsed": true
   },
   "outputs": [],
   "source": []
  }
 ],
 "metadata": {
  "kernelspec": {
   "display_name": "Julia 0.6.1",
   "language": "julia",
   "name": "julia-0.6"
  },
  "language_info": {
   "file_extension": ".jl",
   "mimetype": "application/julia",
   "name": "julia",
   "version": "0.6.1"
  }
 },
 "nbformat": 4,
 "nbformat_minor": 2
}
